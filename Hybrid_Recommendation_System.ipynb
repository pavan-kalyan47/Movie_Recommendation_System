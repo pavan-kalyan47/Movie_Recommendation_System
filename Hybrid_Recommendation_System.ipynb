{
 "cells": [
  {
   "cell_type": "code",
   "execution_count": 1,
   "id": "acce81fc",
   "metadata": {},
   "outputs": [],
   "source": [
    "import pandas as pd\n",
    "import numpy as np\n",
    "from sklearn.metrics.pairwise import cosine_similarity\n",
    "from sklearn.preprocessing import MultiLabelBinarizer\n",
    "from sklearn.metrics import mean_absolute_error, mean_squared_error\n",
    "from math import sqrt"
   ]
  },
  {
   "cell_type": "code",
   "execution_count": 2,
   "id": "b50e1caa",
   "metadata": {},
   "outputs": [],
   "source": [
    "data_ratings = pd.read_csv('ratings.csv')\n",
    "data_movies = pd.read_csv('movies.csv')"
   ]
  },
  {
   "cell_type": "code",
   "execution_count": 3,
   "id": "6efeeaaa",
   "metadata": {},
   "outputs": [],
   "source": [
    "ratings_matrix = data_ratings.pivot(index='userId', columns='movieId', values='rating').fillna(0)\n"
   ]
  },
  {
   "cell_type": "code",
   "execution_count": 4,
   "id": "11e30133",
   "metadata": {},
   "outputs": [],
   "source": [
    "U, Sigma, Vt = np.linalg.svd(ratings_matrix, full_matrices=False)\n",
    "k = 20  # Number of latent factors\n",
    "U_k = U[:, :k]\n",
    "Sigma_k = np.diag(Sigma[:k])\n",
    "Vt_k = Vt[:k, :]"
   ]
  },
  {
   "cell_type": "code",
   "execution_count": 5,
   "id": "d9ec31af",
   "metadata": {},
   "outputs": [],
   "source": [
    "ratings_matrix_approx = np.dot(np.dot(U_k, Sigma_k), Vt_k)\n",
    "\n",
    "# Convert the predicted ratings into a pandas DataFrame for convenience\n",
    "predicted_ratings_svd = pd.DataFrame(ratings_matrix_approx, index=ratings_matrix.index, columns=ratings_matrix.columns)\n"
   ]
  },
  {
   "cell_type": "code",
   "execution_count": 6,
   "id": "9abb26ab",
   "metadata": {},
   "outputs": [],
   "source": [
    "ratings_matrix_centered = ratings_matrix.sub(ratings_matrix.mean(axis=1), axis=0)\n",
    "user_similarity_pearson = cosine_similarity(ratings_matrix_centered)\n",
    "user_similarity_df_pearson = pd.DataFrame(user_similarity_pearson, index=ratings_matrix.index, columns=ratings_matrix.index)"
   ]
  },
  {
   "cell_type": "code",
   "execution_count": 7,
   "id": "21c3346e",
   "metadata": {},
   "outputs": [],
   "source": [
    "ratings_matrix_centered_items = ratings_matrix.T.sub(ratings_matrix.mean(axis=0), axis=0)\n",
    "item_similarity_pearson = cosine_similarity(ratings_matrix_centered_items)\n",
    "item_similarity_df_pearson = pd.DataFrame(item_similarity_pearson, index=ratings_matrix.columns, columns=ratings_matrix.columns)"
   ]
  },
  {
   "cell_type": "code",
   "execution_count": 8,
   "id": "9abe4348",
   "metadata": {},
   "outputs": [],
   "source": [
    "def content_based_similarity(data_movies):\n",
    "    # One-hot encode genres\n",
    "    mlb = MultiLabelBinarizer()\n",
    "    genres = data_movies['genres'].str.split('|')\n",
    "    genre_matrix = mlb.fit_transform(genres)\n",
    "    \n",
    "    # Calculate the cosine similarity between movies based on their genres\n",
    "    content_similarity = cosine_similarity(genre_matrix)\n",
    "    \n",
    "    return pd.DataFrame(content_similarity, index=data_movies['movieId'], columns=data_movies['movieId'])\n",
    "\n",
    "# Calculate content-based similarity\n",
    "content_similarity_df = content_based_similarity(data_movies)"
   ]
  },
  {
   "cell_type": "code",
   "execution_count": 9,
   "id": "bc1cbe64",
   "metadata": {},
   "outputs": [],
   "source": [
    "def predict_user_based(user_id, movie_id, user_similarity_df, ratings_matrix, nNeighbours=10):\n",
    "    similar_users = user_similarity_df[user_id].sort_values(ascending=False)[1:nNeighbours+1]\n",
    "    \n",
    "    weighted_ratings = 0\n",
    "    total_similarity = 0\n",
    "    \n",
    "    for similar_user, similarity in zip(similar_users.index, similar_users):\n",
    "        if ratings_matrix.loc[similar_user, movie_id] > 0:  # Only consider rated movies\n",
    "            weighted_ratings += similarity * ratings_matrix.loc[similar_user, movie_id]\n",
    "            total_similarity += similarity\n",
    "    \n",
    "    if total_similarity == 0:\n",
    "        return 0  # Return 0 if no similar users rated the movie\n",
    "    return weighted_ratings / total_similarity"
   ]
  },
  {
   "cell_type": "code",
   "execution_count": 10,
   "id": "2457f940",
   "metadata": {},
   "outputs": [],
   "source": [
    "def predict_item_based(user_id, movie_id, item_similarity_df, ratings_matrix, nNeighbours=10):\n",
    "    similar_items = item_similarity_df[movie_id].sort_values(ascending=False)[1:nNeighbours+1]\n",
    "    \n",
    "    weighted_ratings = 0\n",
    "    total_similarity = 0\n",
    "    \n",
    "    for similar_item, similarity in zip(similar_items.index, similar_items):\n",
    "        if ratings_matrix.loc[user_id, similar_item] > 0:  # Only consider rated movies\n",
    "            weighted_ratings += similarity * ratings_matrix.loc[user_id, similar_item]\n",
    "            total_similarity += similarity\n",
    "    \n",
    "    if total_similarity == 0:\n",
    "        return 0  # Return 0 if no similar items are rated\n",
    "    return weighted_ratings / total_similarity"
   ]
  },
  {
   "cell_type": "code",
   "execution_count": 11,
   "id": "dbd66a21",
   "metadata": {},
   "outputs": [],
   "source": [
    "def predict_svd(user_id, movie_id, predicted_ratings_svd):\n",
    "    return predicted_ratings_svd.loc[user_id, movie_id]"
   ]
  },
  {
   "cell_type": "code",
   "execution_count": 12,
   "id": "b91501f8",
   "metadata": {},
   "outputs": [],
   "source": [
    "def hybrid_recommendation(user_id, ratings_matrix, user_similarity_df, item_similarity_df, predicted_ratings_svd, content_similarity_df, topN=10, weights=[1, 1, 1, 1]):\n",
    "    predicted_ratings = []\n",
    "    \n",
    "    for movie_id in ratings_matrix.columns:\n",
    "        if ratings_matrix.loc[user_id, movie_id] > 0:\n",
    "            continue\n",
    "        \n",
    "        # Get predictions from collaborative filtering methods\n",
    "        pred_user_based = predict_user_based(user_id, movie_id, user_similarity_df, ratings_matrix)\n",
    "        pred_item_based = predict_item_based(user_id, movie_id, item_similarity_df, ratings_matrix)\n",
    "        pred_svd_based = predict_svd(user_id, movie_id, predicted_ratings_svd)\n",
    "        \n",
    "        # Get content-based prediction based on content similarity\n",
    "        pred_content_based = content_similarity_df.loc[movie_id].mean()  # Average similarity of the movie\n",
    "        \n",
    "        # Aggregate the predictions with weights\n",
    "        weighted_prediction = (weights[0] * pred_user_based + weights[1] * pred_item_based + weights[2] * pred_svd_based + weights[3] * pred_content_based) / sum(weights)\n",
    "        predicted_ratings.append((movie_id, weighted_prediction))\n",
    "    \n",
    "    # Sort by weighted prediction and get top N recommendations\n",
    "    predicted_ratings.sort(key=lambda x: x[1], reverse=True)\n",
    "    top_recommendations = [data_movies[data_movies['movieId'] == movie_id]['title'].values[0] for movie_id, _ in predicted_ratings[:topN]]\n",
    "    \n",
    "    return top_recommendations"
   ]
  },
  {
   "cell_type": "code",
   "execution_count": 13,
   "id": "17a41956",
   "metadata": {},
   "outputs": [
    {
     "name": "stdout",
     "output_type": "stream",
     "text": [
      "Recommended Movies (Hybrid with Content-Based + Collaborative):\n",
      "Elite Squad: The Enemy Within (Tropa de Elite 2 - O Inimigo Agora É Outro) (2010)\n",
      "Deadpool (2016)\n",
      "Moonrise Kingdom (2012)\n",
      "John Wick (2014)\n",
      "Titanic (1997)\n"
     ]
    }
   ],
   "source": [
    "user_id = 2  # Example user ID\n",
    "recommended_movies_hybrid = hybrid_recommendation(user_id, ratings_matrix, user_similarity_df_pearson, item_similarity_df_pearson, predicted_ratings_svd, content_similarity_df, topN=5)\n",
    "\n",
    "print(\"Recommended Movies (Hybrid with Content-Based + Collaborative):\")\n",
    "for movie in recommended_movies_hybrid:\n",
    "    print(movie)"
   ]
  },
  {
   "cell_type": "code",
   "execution_count": null,
   "id": "a5cc3abe",
   "metadata": {},
   "outputs": [],
   "source": []
  },
  {
   "cell_type": "code",
   "execution_count": 14,
   "id": "456dbe93",
   "metadata": {},
   "outputs": [
    {
     "name": "stdout",
     "output_type": "stream",
     "text": [
      "    userId  movieId  rating   timestamp  \\\n",
      "0        2      318     3.0  1445714835   \n",
      "1        2      333     4.0  1445715029   \n",
      "2        2     1704     4.5  1445715228   \n",
      "3        2     3578     4.0  1445714885   \n",
      "4        2     6874     4.0  1445714952   \n",
      "5        2     8798     3.5  1445714960   \n",
      "6        2    46970     4.0  1445715013   \n",
      "7        2    48516     4.0  1445715064   \n",
      "8        2    58559     4.5  1445715141   \n",
      "9        2    60756     5.0  1445714980   \n",
      "10       2    68157     4.5  1445715154   \n",
      "11       2    71535     3.0  1445714974   \n",
      "12       2    74458     4.0  1445714926   \n",
      "13       2    77455     3.0  1445714941   \n",
      "14       2    79132     4.0  1445714841   \n",
      "15       2    80489     4.5  1445715340   \n",
      "16       2    80906     5.0  1445715172   \n",
      "17       2    86345     4.0  1445715166   \n",
      "18       2    89774     5.0  1445715189   \n",
      "19       2    91529     3.5  1445714891   \n",
      "20       2    91658     2.5  1445714938   \n",
      "21       2    99114     3.5  1445714874   \n",
      "22       2   106782     5.0  1445714966   \n",
      "23       2   109487     3.0  1445715145   \n",
      "24       2   112552     4.0  1445714882   \n",
      "25       2   114060     2.0  1445715276   \n",
      "26       2   115713     3.5  1445714854   \n",
      "27       2   122882     5.0  1445715272   \n",
      "28       2   131724     5.0  1445714851   \n",
      "\n",
      "                                                title  \\\n",
      "0                    Shawshank Redemption, The (1994)   \n",
      "1                                    Tommy Boy (1995)   \n",
      "2                            Good Will Hunting (1997)   \n",
      "3                                    Gladiator (2000)   \n",
      "4                            Kill Bill: Vol. 1 (2003)   \n",
      "5                                   Collateral (2004)   \n",
      "6   Talladega Nights: The Ballad of Ricky Bobby (2...   \n",
      "7                                Departed, The (2006)   \n",
      "8                             Dark Knight, The (2008)   \n",
      "9                                Step Brothers (2008)   \n",
      "10                        Inglourious Basterds (2009)   \n",
      "11                                  Zombieland (2009)   \n",
      "12                              Shutter Island (2010)   \n",
      "13                  Exit Through the Gift Shop (2010)   \n",
      "14                                   Inception (2010)   \n",
      "15                                   Town, The (2010)   \n",
      "16                                  Inside Job (2010)   \n",
      "17                       Louis C.K.: Hilarious (2010)   \n",
      "18                                     Warrior (2011)   \n",
      "19                      Dark Knight Rises, The (2012)   \n",
      "20            Girl with the Dragon Tattoo, The (2011)   \n",
      "21                            Django Unchained (2012)   \n",
      "22                    Wolf of Wall Street, The (2013)   \n",
      "23                                Interstellar (2014)   \n",
      "24                                    Whiplash (2014)   \n",
      "25                                    The Drop (2014)   \n",
      "26                                  Ex Machina (2015)   \n",
      "27                          Mad Max: Fury Road (2015)   \n",
      "28  The Jinx: The Life and Deaths of Robert Durst ...   \n",
      "\n",
      "                                             genres  \n",
      "0                                       Crime|Drama  \n",
      "1                                            Comedy  \n",
      "2                                     Drama|Romance  \n",
      "3                            Action|Adventure|Drama  \n",
      "4                             Action|Crime|Thriller  \n",
      "5                       Action|Crime|Drama|Thriller  \n",
      "6                                     Action|Comedy  \n",
      "7                              Crime|Drama|Thriller  \n",
      "8                           Action|Crime|Drama|IMAX  \n",
      "9                                            Comedy  \n",
      "10                                 Action|Drama|War  \n",
      "11                             Action|Comedy|Horror  \n",
      "12                           Drama|Mystery|Thriller  \n",
      "13                               Comedy|Documentary  \n",
      "14  Action|Crime|Drama|Mystery|Sci-Fi|Thriller|IMAX  \n",
      "15                             Crime|Drama|Thriller  \n",
      "16                                      Documentary  \n",
      "17                                           Comedy  \n",
      "18                                            Drama  \n",
      "19                      Action|Adventure|Crime|IMAX  \n",
      "20                                   Drama|Thriller  \n",
      "21                             Action|Drama|Western  \n",
      "22                               Comedy|Crime|Drama  \n",
      "23                                      Sci-Fi|IMAX  \n",
      "24                                            Drama  \n",
      "25                             Crime|Drama|Thriller  \n",
      "26                            Drama|Sci-Fi|Thriller  \n",
      "27                 Action|Adventure|Sci-Fi|Thriller  \n",
      "28                                      Documentary  \n",
      "['Elite Squad: The Enemy Within (Tropa de Elite 2 - O Inimigo Agora É Outro) (2010)', 'Deadpool (2016)', 'Moonrise Kingdom (2012)', 'John Wick (2014)', 'Titanic (1997)']\n"
     ]
    }
   ],
   "source": [
    "user_rated_movies = data_ratings[data_ratings['userId'] == user_id]\n",
    "print(user_rated_movies.merge(data_movies, on='movieId'))\n",
    "\n",
    "# Check recommended movies\n",
    "print(recommended_movies_hybrid)"
   ]
  },
  {
   "cell_type": "code",
   "execution_count": 17,
   "id": "31a55a62",
   "metadata": {},
   "outputs": [
    {
     "name": "stdout",
     "output_type": "stream",
     "text": [
      "MAE: 0.044924724476642273\n",
      "RMSE: 0.20494891446798322\n"
     ]
    }
   ],
   "source": [
    "def calculate_mae(predicted_ratings, actual_ratings):\n",
    "    return np.mean(np.abs(predicted_ratings - actual_ratings))\n",
    "\n",
    "def calculate_rmse(predicted_ratings, actual_ratings):\n",
    "    return np.sqrt(np.mean((predicted_ratings - actual_ratings) ** 2))\n",
    "\n",
    "# Compare predictions to actual ratings\n",
    "actual_ratings = ratings_matrix.loc[user_id, ratings_matrix.columns]\n",
    "predicted_ratings = [predict_svd(user_id, movie_id, predicted_ratings_svd) for movie_id in ratings_matrix.columns]\n",
    "print(\"MAE:\", calculate_mae(predicted_ratings, actual_ratings))\n",
    "print(\"RMSE:\", calculate_rmse(predicted_ratings, actual_ratings))"
   ]
  },
  {
   "cell_type": "code",
   "execution_count": null,
   "id": "3ac4c757",
   "metadata": {},
   "outputs": [],
   "source": []
  }
 ],
 "metadata": {
  "kernelspec": {
   "display_name": "Python 3 (ipykernel)",
   "language": "python",
   "name": "python3"
  },
  "language_info": {
   "codemirror_mode": {
    "name": "ipython",
    "version": 3
   },
   "file_extension": ".py",
   "mimetype": "text/x-python",
   "name": "python",
   "nbconvert_exporter": "python",
   "pygments_lexer": "ipython3",
   "version": "3.11.4"
  }
 },
 "nbformat": 4,
 "nbformat_minor": 5
}
