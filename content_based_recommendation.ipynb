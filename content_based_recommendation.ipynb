{
 "cells": [
  {
   "cell_type": "code",
   "execution_count": 1,
   "id": "c76742cb",
   "metadata": {},
   "outputs": [],
   "source": [
    "import pandas as pd\n",
    "import numpy as np\n",
    "import seaborn as sns\n",
    "import matplotlib.pyplot as plt\n",
    "from sklearn.feature_extraction.text import TfidfVectorizer\n",
    "from sklearn.metrics.pairwise import cosine_similarity\n",
    "from sklearn.preprocessing import Binarizer"
   ]
  },
  {
   "cell_type": "code",
   "execution_count": 2,
   "id": "29d151b2",
   "metadata": {},
   "outputs": [],
   "source": [
    "data_ratings = pd.read_csv('ratings.csv')\n",
    "data_movies = pd.read_csv('movies.csv')\n",
    "data_links = pd.read_csv('links.csv')\n",
    "data_tags = pd.read_csv('tags.csv')"
   ]
  },
  {
   "cell_type": "code",
   "execution_count": 3,
   "id": "496636e3",
   "metadata": {},
   "outputs": [
    {
     "data": {
      "text/html": [
       "<div>\n",
       "<style scoped>\n",
       "    .dataframe tbody tr th:only-of-type {\n",
       "        vertical-align: middle;\n",
       "    }\n",
       "\n",
       "    .dataframe tbody tr th {\n",
       "        vertical-align: top;\n",
       "    }\n",
       "\n",
       "    .dataframe thead th {\n",
       "        text-align: right;\n",
       "    }\n",
       "</style>\n",
       "<table border=\"1\" class=\"dataframe\">\n",
       "  <thead>\n",
       "    <tr style=\"text-align: right;\">\n",
       "      <th></th>\n",
       "      <th>movieId</th>\n",
       "      <th>title</th>\n",
       "      <th>genres</th>\n",
       "    </tr>\n",
       "  </thead>\n",
       "  <tbody>\n",
       "    <tr>\n",
       "      <th>0</th>\n",
       "      <td>1</td>\n",
       "      <td>Toy Story (1995)</td>\n",
       "      <td>Adventure|Animation|Children|Comedy|Fantasy</td>\n",
       "    </tr>\n",
       "    <tr>\n",
       "      <th>1</th>\n",
       "      <td>2</td>\n",
       "      <td>Jumanji (1995)</td>\n",
       "      <td>Adventure|Children|Fantasy</td>\n",
       "    </tr>\n",
       "    <tr>\n",
       "      <th>2</th>\n",
       "      <td>3</td>\n",
       "      <td>Grumpier Old Men (1995)</td>\n",
       "      <td>Comedy|Romance</td>\n",
       "    </tr>\n",
       "    <tr>\n",
       "      <th>3</th>\n",
       "      <td>4</td>\n",
       "      <td>Waiting to Exhale (1995)</td>\n",
       "      <td>Comedy|Drama|Romance</td>\n",
       "    </tr>\n",
       "    <tr>\n",
       "      <th>4</th>\n",
       "      <td>5</td>\n",
       "      <td>Father of the Bride Part II (1995)</td>\n",
       "      <td>Comedy</td>\n",
       "    </tr>\n",
       "    <tr>\n",
       "      <th>...</th>\n",
       "      <td>...</td>\n",
       "      <td>...</td>\n",
       "      <td>...</td>\n",
       "    </tr>\n",
       "    <tr>\n",
       "      <th>9737</th>\n",
       "      <td>193581</td>\n",
       "      <td>Black Butler: Book of the Atlantic (2017)</td>\n",
       "      <td>Action|Animation|Comedy|Fantasy</td>\n",
       "    </tr>\n",
       "    <tr>\n",
       "      <th>9738</th>\n",
       "      <td>193583</td>\n",
       "      <td>No Game No Life: Zero (2017)</td>\n",
       "      <td>Animation|Comedy|Fantasy</td>\n",
       "    </tr>\n",
       "    <tr>\n",
       "      <th>9739</th>\n",
       "      <td>193585</td>\n",
       "      <td>Flint (2017)</td>\n",
       "      <td>Drama</td>\n",
       "    </tr>\n",
       "    <tr>\n",
       "      <th>9740</th>\n",
       "      <td>193587</td>\n",
       "      <td>Bungo Stray Dogs: Dead Apple (2018)</td>\n",
       "      <td>Action|Animation</td>\n",
       "    </tr>\n",
       "    <tr>\n",
       "      <th>9741</th>\n",
       "      <td>193609</td>\n",
       "      <td>Andrew Dice Clay: Dice Rules (1991)</td>\n",
       "      <td>Comedy</td>\n",
       "    </tr>\n",
       "  </tbody>\n",
       "</table>\n",
       "<p>9742 rows × 3 columns</p>\n",
       "</div>"
      ],
      "text/plain": [
       "      movieId                                      title  \\\n",
       "0           1                           Toy Story (1995)   \n",
       "1           2                             Jumanji (1995)   \n",
       "2           3                    Grumpier Old Men (1995)   \n",
       "3           4                   Waiting to Exhale (1995)   \n",
       "4           5         Father of the Bride Part II (1995)   \n",
       "...       ...                                        ...   \n",
       "9737   193581  Black Butler: Book of the Atlantic (2017)   \n",
       "9738   193583               No Game No Life: Zero (2017)   \n",
       "9739   193585                               Flint (2017)   \n",
       "9740   193587        Bungo Stray Dogs: Dead Apple (2018)   \n",
       "9741   193609        Andrew Dice Clay: Dice Rules (1991)   \n",
       "\n",
       "                                           genres  \n",
       "0     Adventure|Animation|Children|Comedy|Fantasy  \n",
       "1                      Adventure|Children|Fantasy  \n",
       "2                                  Comedy|Romance  \n",
       "3                            Comedy|Drama|Romance  \n",
       "4                                          Comedy  \n",
       "...                                           ...  \n",
       "9737              Action|Animation|Comedy|Fantasy  \n",
       "9738                     Animation|Comedy|Fantasy  \n",
       "9739                                        Drama  \n",
       "9740                             Action|Animation  \n",
       "9741                                       Comedy  \n",
       "\n",
       "[9742 rows x 3 columns]"
      ]
     },
     "execution_count": 3,
     "metadata": {},
     "output_type": "execute_result"
    }
   ],
   "source": [
    "data_movies"
   ]
  },
  {
   "cell_type": "code",
   "execution_count": 4,
   "id": "6388bd65",
   "metadata": {},
   "outputs": [
    {
     "data": {
      "text/html": [
       "<div>\n",
       "<style scoped>\n",
       "    .dataframe tbody tr th:only-of-type {\n",
       "        vertical-align: middle;\n",
       "    }\n",
       "\n",
       "    .dataframe tbody tr th {\n",
       "        vertical-align: top;\n",
       "    }\n",
       "\n",
       "    .dataframe thead th {\n",
       "        text-align: right;\n",
       "    }\n",
       "</style>\n",
       "<table border=\"1\" class=\"dataframe\">\n",
       "  <thead>\n",
       "    <tr style=\"text-align: right;\">\n",
       "      <th></th>\n",
       "      <th>userId</th>\n",
       "      <th>movieId</th>\n",
       "      <th>tag</th>\n",
       "      <th>timestamp</th>\n",
       "    </tr>\n",
       "  </thead>\n",
       "  <tbody>\n",
       "    <tr>\n",
       "      <th>0</th>\n",
       "      <td>2</td>\n",
       "      <td>60756</td>\n",
       "      <td>funny</td>\n",
       "      <td>1445714994</td>\n",
       "    </tr>\n",
       "    <tr>\n",
       "      <th>1</th>\n",
       "      <td>2</td>\n",
       "      <td>60756</td>\n",
       "      <td>Highly quotable</td>\n",
       "      <td>1445714996</td>\n",
       "    </tr>\n",
       "    <tr>\n",
       "      <th>2</th>\n",
       "      <td>2</td>\n",
       "      <td>60756</td>\n",
       "      <td>will ferrell</td>\n",
       "      <td>1445714992</td>\n",
       "    </tr>\n",
       "    <tr>\n",
       "      <th>3</th>\n",
       "      <td>2</td>\n",
       "      <td>89774</td>\n",
       "      <td>Boxing story</td>\n",
       "      <td>1445715207</td>\n",
       "    </tr>\n",
       "    <tr>\n",
       "      <th>4</th>\n",
       "      <td>2</td>\n",
       "      <td>89774</td>\n",
       "      <td>MMA</td>\n",
       "      <td>1445715200</td>\n",
       "    </tr>\n",
       "    <tr>\n",
       "      <th>...</th>\n",
       "      <td>...</td>\n",
       "      <td>...</td>\n",
       "      <td>...</td>\n",
       "      <td>...</td>\n",
       "    </tr>\n",
       "    <tr>\n",
       "      <th>3678</th>\n",
       "      <td>606</td>\n",
       "      <td>7382</td>\n",
       "      <td>for katie</td>\n",
       "      <td>1171234019</td>\n",
       "    </tr>\n",
       "    <tr>\n",
       "      <th>3679</th>\n",
       "      <td>606</td>\n",
       "      <td>7936</td>\n",
       "      <td>austere</td>\n",
       "      <td>1173392334</td>\n",
       "    </tr>\n",
       "    <tr>\n",
       "      <th>3680</th>\n",
       "      <td>610</td>\n",
       "      <td>3265</td>\n",
       "      <td>gun fu</td>\n",
       "      <td>1493843984</td>\n",
       "    </tr>\n",
       "    <tr>\n",
       "      <th>3681</th>\n",
       "      <td>610</td>\n",
       "      <td>3265</td>\n",
       "      <td>heroic bloodshed</td>\n",
       "      <td>1493843978</td>\n",
       "    </tr>\n",
       "    <tr>\n",
       "      <th>3682</th>\n",
       "      <td>610</td>\n",
       "      <td>168248</td>\n",
       "      <td>Heroic Bloodshed</td>\n",
       "      <td>1493844270</td>\n",
       "    </tr>\n",
       "  </tbody>\n",
       "</table>\n",
       "<p>3683 rows × 4 columns</p>\n",
       "</div>"
      ],
      "text/plain": [
       "      userId  movieId               tag   timestamp\n",
       "0          2    60756             funny  1445714994\n",
       "1          2    60756   Highly quotable  1445714996\n",
       "2          2    60756      will ferrell  1445714992\n",
       "3          2    89774      Boxing story  1445715207\n",
       "4          2    89774               MMA  1445715200\n",
       "...      ...      ...               ...         ...\n",
       "3678     606     7382         for katie  1171234019\n",
       "3679     606     7936           austere  1173392334\n",
       "3680     610     3265            gun fu  1493843984\n",
       "3681     610     3265  heroic bloodshed  1493843978\n",
       "3682     610   168248  Heroic Bloodshed  1493844270\n",
       "\n",
       "[3683 rows x 4 columns]"
      ]
     },
     "execution_count": 4,
     "metadata": {},
     "output_type": "execute_result"
    }
   ],
   "source": [
    "data_tags"
   ]
  },
  {
   "cell_type": "code",
   "execution_count": 5,
   "id": "74f5c2a0",
   "metadata": {},
   "outputs": [
    {
     "name": "stdout",
     "output_type": "stream",
     "text": [
      "movieId      int64\n",
      "imdbId       int64\n",
      "tmdbId     float64\n",
      "dtype: object\n"
     ]
    }
   ],
   "source": [
    "print(data_links.dtypes) "
   ]
  },
  {
   "cell_type": "code",
   "execution_count": 6,
   "id": "c2ef10b3",
   "metadata": {},
   "outputs": [
    {
     "data": {
      "text/plain": [
       "userId       0\n",
       "movieId      0\n",
       "rating       0\n",
       "timestamp    0\n",
       "dtype: int64"
      ]
     },
     "execution_count": 6,
     "metadata": {},
     "output_type": "execute_result"
    }
   ],
   "source": [
    "data_ratings.isnull().sum()"
   ]
  },
  {
   "cell_type": "code",
   "execution_count": 7,
   "id": "d4f2e600",
   "metadata": {},
   "outputs": [
    {
     "data": {
      "text/plain": [
       "userId       0\n",
       "movieId      0\n",
       "tag          0\n",
       "timestamp    0\n",
       "dtype: int64"
      ]
     },
     "execution_count": 7,
     "metadata": {},
     "output_type": "execute_result"
    }
   ],
   "source": [
    "data_tags.isnull().sum()"
   ]
  },
  {
   "cell_type": "code",
   "execution_count": 8,
   "id": "08cb763a",
   "metadata": {},
   "outputs": [
    {
     "data": {
      "text/plain": [
       "movieId    0\n",
       "title      0\n",
       "genres     0\n",
       "dtype: int64"
      ]
     },
     "execution_count": 8,
     "metadata": {},
     "output_type": "execute_result"
    }
   ],
   "source": [
    "data_movies.isnull().sum()"
   ]
  },
  {
   "cell_type": "code",
   "execution_count": 9,
   "id": "1e785fe2",
   "metadata": {},
   "outputs": [
    {
     "name": "stdout",
     "output_type": "stream",
     "text": [
      "Number of matching movieIds: 1572\n"
     ]
    }
   ],
   "source": [
    "tags_movie_ids = set(data_tags['movieId'])\n",
    "movies_movie_ids = set(data_movies['movieId'])\n",
    "\n",
    "common_ids = tags_movie_ids.intersection(movies_movie_ids)\n",
    "\n",
    "print(f\"Number of matching movieIds: {len(common_ids)}\")\n"
   ]
  },
  {
   "cell_type": "code",
   "execution_count": 10,
   "id": "3b4ac0ab",
   "metadata": {},
   "outputs": [
    {
     "name": "stdout",
     "output_type": "stream",
     "text": [
      "Number of common movieIds: 9724\n",
      "Number of missing movieIds in ratings: 18\n",
      "Missing movieIds: {3456, 6849, 4194, 85565, 32160, 26085, 3338, 6668, 7020, 30892, 7792, 34482, 32371, 1076, 5721, 2939, 8765, 25855}\n"
     ]
    }
   ],
   "source": [
    "movies_movie_ids = set(data_movies['movieId'])\n",
    "ratings_movie_ids = set(data_ratings['movieId'])\n",
    "\n",
    "common_ids = movies_movie_ids.intersection(ratings_movie_ids)\n",
    "missing_ids = movies_movie_ids.difference(ratings_movie_ids)\n",
    "\n",
    "print(f\"Number of common movieIds: {len(common_ids)}\")\n",
    "print(f\"Number of missing movieIds in ratings: {len(missing_ids)}\")\n",
    "\n",
    "if len(missing_ids) > 0:\n",
    "    print(f\"Missing movieIds: {missing_ids}\")\n",
    "else:\n",
    "    print(\"All movies in movies are present in ratings.\")"
   ]
  },
  {
   "cell_type": "code",
   "execution_count": 11,
   "id": "4bdb0031",
   "metadata": {},
   "outputs": [],
   "source": [
    "data_movies['genres'] = data_movies['genres'].fillna('').apply(lambda x: ' '.join(x.split('|')))"
   ]
  },
  {
   "cell_type": "code",
   "execution_count": 12,
   "id": "4899b553",
   "metadata": {},
   "outputs": [
    {
     "data": {
      "image/png": "[encoded data removed]",
      "text/plain": [
       "<Figure size 1200x600 with 1 Axes>"
      ]
     },
     "metadata": {},
     "output_type": "display_data"
    }
   ],
   "source": [
    "genre_counts = data_movies['genres'].str.split(' ', expand=True).stack().value_counts()\n",
    "\n",
    "# Plot the genre distribution\n",
    "plt.figure(figsize=(12, 6))\n",
    "sns.barplot(x=genre_counts.index, y=genre_counts.values, palette='viridis')\n",
    "plt.title('Genre Distribution')\n",
    "plt.xlabel('Genre')\n",
    "plt.ylabel('Frequency')\n",
    "plt.xticks(rotation=90)\n",
    "plt.show()"
   ]
  },
  {
   "cell_type": "code",
   "execution_count": 13,
   "id": "3b675b33",
   "metadata": {},
   "outputs": [
    {
     "data": {
      "image/png": "[encoded data removed]",
      "text/plain": [
       "<Figure size 1200x600 with 1 Axes>"
      ]
     },
     "metadata": {},
     "output_type": "display_data"
    }
   ],
   "source": [
    "tag_counts = data_tags['tag'].value_counts()\n",
    "\n",
    "# Plot the tag frequency distribution\n",
    "plt.figure(figsize=(12, 6))\n",
    "sns.barplot(x=tag_counts.index[:20], y=tag_counts.values[:20], palette='plasma')\n",
    "plt.title('Top 20 Tag Frequencies')\n",
    "plt.xlabel('Tag')\n",
    "plt.ylabel('Frequency')\n",
    "plt.xticks(rotation=90)\n",
    "plt.show()"
   ]
  },
  {
   "cell_type": "code",
   "execution_count": 14,
   "id": "0c8db780",
   "metadata": {},
   "outputs": [],
   "source": [
    "genre_tfidf = TfidfVectorizer(stop_words='english')\n",
    "genre_matrix = genre_tfidf.fit_transform(data_movies['genres'])"
   ]
  },
  {
   "cell_type": "code",
   "execution_count": 15,
   "id": "5ab9d3fa",
   "metadata": {},
   "outputs": [],
   "source": [
    "genre_cosine_sim = cosine_similarity(genre_matrix, genre_matrix)"
   ]
  },
  {
   "cell_type": "code",
   "execution_count": 16,
   "id": "b4fd9316",
   "metadata": {},
   "outputs": [],
   "source": [
    "def genre_recommendation(movie_id, top_n=5):\n",
    "    movie_idx = data_movies[data_movies['movieId'] == movie_id].index[0]\n",
    "    sim_scores = list(enumerate(genre_cosine_sim[movie_idx]))\n",
    "    sim_scores = sorted(sim_scores, key=lambda x: x[1], reverse=True)\n",
    "    recommended_movie_ids = [data_movies.iloc[i[0]]['movieId'] for i in sim_scores[1:top_n+1]]\n",
    "\n",
    "    recommended_movie_names = data_movies[data_movies['movieId'].isin(recommended_movie_ids)]['title'].tolist()\n",
    "    return recommended_movie_names\n",
    "    \n",
    "    "
   ]
  },
  {
   "cell_type": "code",
   "execution_count": 17,
   "id": "1c247316",
   "metadata": {},
   "outputs": [],
   "source": [
    "tagged_movies = data_tags.groupby('movieId')['tag'].apply(lambda x: ' '.join(x)).reset_index()"
   ]
  },
  {
   "cell_type": "code",
   "execution_count": 18,
   "id": "2bd8717f",
   "metadata": {},
   "outputs": [],
   "source": [
    "tagged_movies = tagged_movies.merge(data_movies[['movieId']], on='movieId', how='right')"
   ]
  },
  {
   "cell_type": "code",
   "execution_count": 19,
   "id": "e39d045c",
   "metadata": {},
   "outputs": [],
   "source": [
    "tag_tfidf = TfidfVectorizer(stop_words='english')\n",
    "tag_matrix = tag_tfidf.fit_transform(tagged_movies['tag'].fillna(''))"
   ]
  },
  {
   "cell_type": "code",
   "execution_count": 20,
   "id": "05eb0ce9",
   "metadata": {},
   "outputs": [],
   "source": [
    "tag_cosine_sim = cosine_similarity(tag_matrix, tag_matrix)"
   ]
  },
  {
   "cell_type": "code",
   "execution_count": 21,
   "id": "fcd9ffb0",
   "metadata": {},
   "outputs": [],
   "source": [
    "def tag_recommendation(movie_id, top_n=5):\n",
    "    movie_idx = tagged_movies[tagged_movies['movieId'] == movie_id].index[0]\n",
    "    sim_scores = list(enumerate(tag_cosine_sim[movie_idx]))\n",
    "    sim_scores = sorted(sim_scores, key=lambda x: x[1], reverse=True)\n",
    "    recommended_movie_ids = [tagged_movies.iloc[i[0]]['movieId'] for i in sim_scores[1:top_n+1]]\n",
    "    \n",
    "    recommended_movie_names = data_movies[data_movies['movieId'].isin(recommended_movie_ids)]['title'].tolist()\n",
    "    return recommended_movie_names"
   ]
  },
  {
   "cell_type": "code",
   "execution_count": 22,
   "id": "ec8cc692",
   "metadata": {
    "scrolled": true
   },
   "outputs": [
    {
     "name": "stdout",
     "output_type": "stream",
     "text": [
      "Movie Title for movie_id 1: Toy Story (1995)\n",
      "Genre-based Recommendations:\n",
      "Antz (1998)\n",
      "Toy Story 2 (1999)\n",
      "Adventures of Rocky and Bullwinkle, The (2000)\n",
      "Emperor's New Groove, The (2000)\n",
      "Monsters, Inc. (2001)\n",
      "\n",
      "Tag-based Recommendations:\n",
      "Bug's Life, A (1998)\n",
      "Toy Story 2 (1999)\n",
      "Up (2009)\n",
      "Big Hero 6 (2014)\n",
      "Guardians of the Galaxy 2 (2017)\n"
     ]
    }
   ],
   "source": [
    "movie_id = 1\n",
    "movie_title = data_movies[data_movies['movieId'] == movie_id]['title'].iloc[0]\n",
    "\n",
    "print(f\"Movie Title for movie_id {movie_id}: {movie_title}\")\n",
    "\n",
    "genre_recs = genre_recommendation(movie_id)\n",
    "tag_recs = tag_recommendation(movie_id)\n",
    "\n",
    "print(\"Genre-based Recommendations:\")\n",
    "for movie in genre_recs:\n",
    "    print(movie)\n",
    "\n",
    "print(\"\\nTag-based Recommendations:\")\n",
    "for movie in tag_recs:\n",
    "    print(movie)"
   ]
  },
  {
   "cell_type": "code",
   "execution_count": 23,
   "id": "9bab8062",
   "metadata": {},
   "outputs": [],
   "source": [
    "from sklearn.feature_extraction.text import TfidfVectorizer\n",
    "from sklearn.metrics.pairwise import cosine_similarity\n",
    "import numpy as np"
   ]
  },
  {
   "cell_type": "code",
   "execution_count": 24,
   "id": "debd198b",
   "metadata": {},
   "outputs": [],
   "source": [
    "data_movies['genres'] = data_movies['genres'].fillna('').apply(lambda x: ' '.join(x.split('|')))"
   ]
  },
  {
   "cell_type": "code",
   "execution_count": 25,
   "id": "41a313d8",
   "metadata": {},
   "outputs": [],
   "source": [
    "\n",
    "tfidf_vectorizer = TfidfVectorizer(stop_words='english')\n",
    "genre_matrix = tfidf_vectorizer.fit_transform(data_movies['genres'])"
   ]
  },
  {
   "cell_type": "code",
   "execution_count": 26,
   "id": "bcd5631b",
   "metadata": {},
   "outputs": [],
   "source": [
    "data_ratings_avg = data_ratings.groupby('movieId')['rating'].mean().reset_index()\n",
    "data_movies = data_movies.merge(data_ratings_avg, on='movieId', how='left')\n",
    "data_movies['rating'] = data_movies['rating'].fillna(data_movies['rating'].mean())"
   ]
  },
  {
   "cell_type": "code",
   "execution_count": 27,
   "id": "d36d2e5e",
   "metadata": {},
   "outputs": [],
   "source": [
    "data_movies['scaled_rating'] = data_movies['rating'] / data_movies['rating'].max()"
   ]
  },
  {
   "cell_type": "code",
   "execution_count": 28,
   "id": "c126c658",
   "metadata": {},
   "outputs": [],
   "source": [
    "weighted_genre_matrix = genre_matrix.multiply(data_movies['scaled_rating'].values[:, None])"
   ]
  },
  {
   "cell_type": "code",
   "execution_count": 29,
   "id": "c3802bfc",
   "metadata": {},
   "outputs": [],
   "source": [
    "content_cosine_sim = cosine_similarity(weighted_genre_matrix, weighted_genre_matrix)"
   ]
  },
  {
   "cell_type": "code",
   "execution_count": 30,
   "id": "0e0ca2e0",
   "metadata": {},
   "outputs": [],
   "source": [
    "def genre_plus_rating_recommendation(movie_id, top_n=5):\n",
    "    try:\n",
    "        # Find the index of the movie\n",
    "        movie_idx = data_movies[data_movies['movieId'] == movie_id].index[0]\n",
    "        \n",
    "        # Retrieve similarity scores for the movie\n",
    "        sim_scores = list(enumerate(content_cosine_sim[movie_idx]))\n",
    "        \n",
    "        # Sort by similarity scores in descending order\n",
    "        sim_scores = sorted(sim_scores, key=lambda x: x[1], reverse=True)\n",
    "        \n",
    "        # Get the top N recommendations (excluding the input movie itself)\n",
    "        recommended_movie_ids = [data_movies.iloc[i[0]]['movieId'] for i in sim_scores[1:top_n + 1]]\n",
    "        \n",
    "        # Retrieve the movie titles\n",
    "        recommended_movie_names = data_movies[data_movies['movieId'].isin(recommended_movie_ids)]['title'].tolist()\n",
    "        return recommended_movie_names\n",
    "    except IndexError:\n",
    "        return [\"Movie not found in the dataset.\"]"
   ]
  },
  {
   "cell_type": "code",
   "execution_count": 31,
   "id": "f72ef4f3",
   "metadata": {},
   "outputs": [
    {
     "name": "stdout",
     "output_type": "stream",
     "text": [
      "Movie Title for movie_id 1: Toy Story (1995)\n",
      "\n",
      "Genre + Rating Weighted Recommendations:\n",
      "Antz (1998)\n",
      "Toy Story 2 (1999)\n",
      "Adventures of Rocky and Bullwinkle, The (2000)\n",
      "Emperor's New Groove, The (2000)\n",
      "Monsters, Inc. (2001)\n"
     ]
    }
   ],
   "source": [
    "movie_id = 1  # Toy Story (1995)\n",
    "movie_title = data_movies[data_movies['movieId'] == movie_id]['title'].iloc[0]\n",
    "print(f\"Movie Title for movie_id {movie_id}: {movie_title}\")\n",
    "\n",
    "recommendations = genre_plus_rating_recommendation(movie_id)\n",
    "print(\"\\nGenre + Rating Weighted Recommendations:\")\n",
    "for movie in recommendations:\n",
    "    print(movie)"
   ]
  },
  {
   "cell_type": "code",
   "execution_count": null,
   "id": "2274973c",
   "metadata": {},
   "outputs": [],
   "source": []
  }
 ],
 "metadata": {
  "kernelspec": {
   "display_name": "Python 3 (ipykernel)",
   "language": "python",
   "name": "python3"
  },
  "language_info": {
   "codemirror_mode": {
    "name": "ipython",
    "version": 3
   },
   "file_extension": ".py",
   "mimetype": "text/x-python",
   "name": "python",
   "nbconvert_exporter": "python",
   "pygments_lexer": "ipython3",
   "version": "3.11.4"
  }
 },
 "nbformat": 4,
 "nbformat_minor": 5
}
