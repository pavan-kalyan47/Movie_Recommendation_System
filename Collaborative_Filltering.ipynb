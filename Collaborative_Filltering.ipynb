{
 "cells": [
  {
   "cell_type": "code",
   "execution_count": 1,
   "id": "0ce6311b",
   "metadata": {},
   "outputs": [],
   "source": [
    "import pandas as pd\n",
    "import numpy as np\n",
    "from sklearn.metrics.pairwise import cosine_similarity\n",
    "from sklearn.preprocessing import StandardScaler\n",
    "from sklearn.metrics import mean_squared_error, mean_absolute_error\n",
    "from math import sqrt"
   ]
  },
  {
   "cell_type": "code",
   "execution_count": 2,
   "id": "08ce7c22",
   "metadata": {},
   "outputs": [],
   "source": [
    "data_ratings = pd.read_csv('ratings.csv')\n",
    "data_movies = pd.read_csv('movies.csv')\n",
    "data_links = pd.read_csv('links.csv')\n",
    "data_tags = pd.read_csv('tags.csv')"
   ]
  },
  {
   "cell_type": "code",
   "execution_count": 3,
   "id": "c570cdb1",
   "metadata": {},
   "outputs": [],
   "source": [
    "ratings_matrix = data_ratings.pivot(index='userId', columns='movieId', values='rating').fillna(0)"
   ]
  },
  {
   "cell_type": "code",
   "execution_count": 4,
   "id": "d06df71e",
   "metadata": {},
   "outputs": [],
   "source": [
    "ratings_matrix_centered = ratings_matrix.sub(ratings_matrix.mean(axis=1), axis=0)\n",
    "\n",
    "user_similarity_pearson = cosine_similarity(ratings_matrix_centered)"
   ]
  },
  {
   "cell_type": "code",
   "execution_count": 5,
   "id": "83f77d77",
   "metadata": {},
   "outputs": [],
   "source": [
    "user_similarity_df_pearson = pd.DataFrame(user_similarity_pearson, index=ratings_matrix.index, columns=ratings_matrix.index)\n",
    "\n",
    "# Similarly, center the data for item-item similarity\n",
    "ratings_matrix_centered_items = ratings_matrix.T.sub(ratings_matrix.mean(axis=0), axis=0)\n",
    "\n",
    "# Calculate the Pearson (centered cosine) similarity between items\n",
    "item_similarity_pearson = cosine_similarity(ratings_matrix_centered_items)\n",
    "\n",
    "# Create a DataFrame for item similarity\n",
    "item_similarity_df_pearson = pd.DataFrame(item_similarity_pearson, index=ratings_matrix.columns, columns=ratings_matrix.columns)\n"
   ]
  },
  {
   "cell_type": "code",
   "execution_count": 6,
   "id": "3ac895b5",
   "metadata": {},
   "outputs": [],
   "source": [
    "def predict_user_based(user_id, movie_id, user_similarity_df, ratings_matrix, nNeighbours=10):\n",
    "    # Get the top nNeighbours most similar users to the target user\n",
    "    similar_users = user_similarity_df[user_id].sort_values(ascending=False)[1:nNeighbours+1]\n",
    "    \n",
    "    weighted_ratings = 0\n",
    "    total_similarity = 0\n",
    "    \n",
    "    for similar_user, similarity in zip(similar_users.index, similar_users):\n",
    "        if ratings_matrix.loc[similar_user, movie_id] > 0:  # Only consider rated movies\n",
    "            weighted_ratings += similarity * ratings_matrix.loc[similar_user, movie_id]\n",
    "            total_similarity += similarity\n",
    "    \n",
    "    if total_similarity == 0:\n",
    "        return 0  # Return 0 if no similar users rated the movie\n",
    "    return weighted_ratings / total_similarity"
   ]
  },
  {
   "cell_type": "code",
   "execution_count": 7,
   "id": "84ab8563",
   "metadata": {},
   "outputs": [],
   "source": [
    "def predict_item_based(user_id, movie_id, item_similarity_df, ratings_matrix, nNeighbours=10):\n",
    "    # Get the top nNeighbours most similar items to the target movie\n",
    "    similar_items = item_similarity_df[movie_id].sort_values(ascending=False)[1:nNeighbours+1]\n",
    "    \n",
    "    weighted_ratings = 0\n",
    "    total_similarity = 0\n",
    "    \n",
    "    for similar_item, similarity in zip(similar_items.index, similar_items):\n",
    "        if ratings_matrix.loc[user_id, similar_item] > 0:  # Only consider rated movies\n",
    "            weighted_ratings += similarity * ratings_matrix.loc[user_id, similar_item]\n",
    "            total_similarity += similarity\n",
    "    \n",
    "    if total_similarity == 0:\n",
    "        return 0  # Return 0 if no similar items are rated\n",
    "    return weighted_ratings / total_similarity"
   ]
  },
  {
   "cell_type": "code",
   "execution_count": 8,
   "id": "9b19017e",
   "metadata": {},
   "outputs": [],
   "source": [
    "def recommend_user_based(user_id, ratings_matrix, user_similarity_df, nNeighbours=10, topN=10):\n",
    "    similar_users = user_similarity_df[user_id].sort_values(ascending=False).head(nNeighbours)\n",
    "    predicted_ratings = {}\n",
    "    \n",
    "    for movie_id in ratings_matrix.columns:\n",
    "        if ratings_matrix.loc[user_id, movie_id] > 0:\n",
    "            continue\n",
    "        \n",
    "        similar_users_ratings = ratings_matrix.loc[similar_users.index, movie_id]\n",
    "        weighted_sum = (similar_users_ratings * similar_users).sum()\n",
    "        normalization_factor = similar_users.sum()\n",
    "        \n",
    "        if normalization_factor > 0:\n",
    "            predicted_ratings[movie_id] = weighted_sum / normalization_factor\n",
    "        else:\n",
    "            predicted_ratings[movie_id] = 0\n",
    "    \n",
    "    recommended_movie_ids = sorted(predicted_ratings, key=predicted_ratings.get, reverse=True)[:topN]\n",
    "    recommended_movie_titles = data_movies[data_movies['movieId'].isin(recommended_movie_ids)]['title'].tolist()\n",
    "    \n",
    "    return recommended_movie_titles"
   ]
  },
  {
   "cell_type": "code",
   "execution_count": 9,
   "id": "1efc3468",
   "metadata": {},
   "outputs": [],
   "source": [
    "def recommend_item_based(user_id, ratings_matrix, item_similarity_df, nNeighbours=10, topN=10):\n",
    "    rated_movies = ratings_matrix.loc[user_id][ratings_matrix.loc[user_id] > 0].index.tolist()\n",
    "    predicted_ratings = {}\n",
    "    \n",
    "    for movie_id in ratings_matrix.columns:\n",
    "        if movie_id in rated_movies:\n",
    "            continue\n",
    "        \n",
    "        similar_items = item_similarity_df[movie_id].sort_values(ascending=False).head(nNeighbours)\n",
    "        weighted_sum = sum(similar_items * ratings_matrix.loc[user_id, similar_items.index])\n",
    "        normalization_factor = similar_items.sum()\n",
    "        \n",
    "        if normalization_factor > 0:\n",
    "            predicted_ratings[movie_id] = weighted_sum / normalization_factor\n",
    "        else:\n",
    "            predicted_ratings[movie_id] = 0\n",
    "    \n",
    "    recommended_movie_ids = sorted(predicted_ratings, key=predicted_ratings.get, reverse=True)[:topN]\n",
    "    recommended_movie_titles = data_movies[data_movies['movieId'].isin(recommended_movie_ids)]['title'].tolist()\n",
    "    \n",
    "    return recommended_movie_titles"
   ]
  },
  {
   "cell_type": "code",
   "execution_count": 10,
   "id": "c7b6325e",
   "metadata": {},
   "outputs": [
    {
     "name": "stdout",
     "output_type": "stream",
     "text": [
      "Recommended Movies (User-Based):\n",
      "Terminator 2: Judgment Day (1991)\n",
      "Godfather, The (1972)\n",
      "Aliens (1986)\n",
      "Hunt for Red October, The (1990)\n",
      "Sixth Sense, The (1999)\n"
     ]
    }
   ],
   "source": [
    "recommended_movies_user_based = recommend_user_based(user_id=1, ratings_matrix=ratings_matrix, \n",
    "                                                    user_similarity_df=user_similarity_df_pearson, nNeighbours=10, topN=5)\n",
    "print(\"Recommended Movies (User-Based):\")\n",
    "for movie in recommended_movies_user_based:\n",
    "    print(movie)"
   ]
  },
  {
   "cell_type": "code",
   "execution_count": 11,
   "id": "ce0d10fe",
   "metadata": {},
   "outputs": [
    {
     "name": "stdout",
     "output_type": "stream",
     "text": [
      "Recommended Movies (Item-Based):\n",
      "Trainspotting (1996)\n",
      "Die Hard (1988)\n",
      "Aliens (1986)\n",
      "Jaws (1975)\n",
      "Sixth Sense, The (1999)\n"
     ]
    }
   ],
   "source": [
    "recommended_movies_item_based = recommend_item_based(user_id=1, ratings_matrix=ratings_matrix, \n",
    "                                                    item_similarity_df=item_similarity_df_pearson, nNeighbours=10, topN=5)\n",
    "print(\"Recommended Movies (Item-Based):\")\n",
    "for movie in recommended_movies_item_based:\n",
    "    print(movie)"
   ]
  },
  {
   "cell_type": "code",
   "execution_count": 12,
   "id": "3456a604",
   "metadata": {},
   "outputs": [
    {
     "name": "stdout",
     "output_type": "stream",
     "text": [
      "MAE for User-Based Recommendation: 0.47286898353299195\n",
      "MAE for Item-Based Recommendation: 0.23991720171886272\n"
     ]
    }
   ],
   "source": [
    "def calculate_mae(predicted_ratings, actual_ratings):\n",
    "    return np.mean(np.abs(predicted_ratings - actual_ratings))\n",
    "\n",
    "# Predict ratings for a user-item pair\n",
    "user_id = 1  # Example user\n",
    "movie_ids = ratings_matrix.columns  # List of all movie ids\n",
    "\n",
    "actual_ratings = ratings_matrix.loc[user_id, movie_ids]  # Actual ratings for this user\n",
    "predicted_ratings_user_based = np.array([predict_user_based(user_id, movie_id, user_similarity_df_pearson, ratings_matrix) for movie_id in movie_ids])\n",
    "predicted_ratings_item_based = np.array([predict_item_based(user_id, movie_id, item_similarity_df_pearson, ratings_matrix) for movie_id in movie_ids])\n",
    "\n",
    "# Calculate MAE\n",
    "mae_user_based = calculate_mae(predicted_ratings_user_based, actual_ratings)\n",
    "mae_item_based = calculate_mae(predicted_ratings_item_based, actual_ratings)\n",
    "\n",
    "print(f\"MAE for User-Based Recommendation: {mae_user_based}\")\n",
    "print(f\"MAE for Item-Based Recommendation: {mae_item_based}\")\n"
   ]
  },
  {
   "cell_type": "code",
   "execution_count": 13,
   "id": "447ecf97",
   "metadata": {},
   "outputs": [
    {
     "name": "stdout",
     "output_type": "stream",
     "text": [
      "RMSE for User-Based Recommendation: 1.302580733172758\n",
      "RMSE for Item-Based Recommendation: 1.0016021465257543\n"
     ]
    }
   ],
   "source": [
    "def calculate_rmse(predicted_ratings, actual_ratings):\n",
    "    return np.sqrt(np.mean((predicted_ratings - actual_ratings) ** 2))\n",
    "\n",
    "# Calculate RMSE\n",
    "rmse_user_based = calculate_rmse(predicted_ratings_user_based, actual_ratings)\n",
    "rmse_item_based = calculate_rmse(predicted_ratings_item_based, actual_ratings)\n",
    "\n",
    "print(f\"RMSE for User-Based Recommendation: {rmse_user_based}\")\n",
    "print(f\"RMSE for Item-Based Recommendation: {rmse_item_based}\")"
   ]
  },
  {
   "cell_type": "code",
   "execution_count": null,
   "id": "480b366f",
   "metadata": {},
   "outputs": [],
   "source": [
    "\n"
   ]
  },
  {
   "cell_type": "code",
   "execution_count": null,
   "id": "825feb88",
   "metadata": {},
   "outputs": [],
   "source": []
  }
 ],
 "metadata": {
  "kernelspec": {
   "display_name": "Python 3 (ipykernel)",
   "language": "python",
   "name": "python3"
  },
  "language_info": {
   "codemirror_mode": {
    "name": "ipython",
    "version": 3
   },
   "file_extension": ".py",
   "mimetype": "text/x-python",
   "name": "python",
   "nbconvert_exporter": "python",
   "pygments_lexer": "ipython3",
   "version": "3.11.4"
  }
 },
 "nbformat": 4,
 "nbformat_minor": 5
}
